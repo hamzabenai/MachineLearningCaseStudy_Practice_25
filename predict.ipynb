{
 "cells": [
  {
   "cell_type": "code",
   "execution_count": 4,
   "metadata": {},
   "outputs": [],
   "source": [
    "import pandas as pd \n",
    "import numpy as np \n",
    "import seaborn as sns \n",
    "import matplotlib.pyplot as plt\n",
    "from sklearn.metrics import r2_score, f1_score, accuracy_score, classification_report\n",
    "from collections import Counter \n",
    "from sklearn.model_selection import train_test_split, cross_val_score\n",
    "from sklearn.ensemble import RandomForestClassifier\n",
    "from sklearn.neighbors import KNeighborsClassifier\n"
   ]
  },
  {
   "cell_type": "code",
   "execution_count": 5,
   "metadata": {},
   "outputs": [
    {
     "data": {
      "text/html": [
       "<div>\n",
       "<style scoped>\n",
       "    .dataframe tbody tr th:only-of-type {\n",
       "        vertical-align: middle;\n",
       "    }\n",
       "\n",
       "    .dataframe tbody tr th {\n",
       "        vertical-align: top;\n",
       "    }\n",
       "\n",
       "    .dataframe thead th {\n",
       "        text-align: right;\n",
       "    }\n",
       "</style>\n",
       "<table border=\"1\" class=\"dataframe\">\n",
       "  <thead>\n",
       "    <tr style=\"text-align: right;\">\n",
       "      <th></th>\n",
       "      <th>Area</th>\n",
       "      <th>Perimeter</th>\n",
       "      <th>Major_Axis_Length</th>\n",
       "      <th>Minor_Axis_Length</th>\n",
       "      <th>Convex_Area</th>\n",
       "      <th>Equiv_Diameter</th>\n",
       "      <th>Eccentricity</th>\n",
       "      <th>Solidity</th>\n",
       "      <th>Extent</th>\n",
       "      <th>Roundness</th>\n",
       "      <th>Aspect_Ration</th>\n",
       "      <th>Compactness</th>\n",
       "      <th>Class</th>\n",
       "    </tr>\n",
       "  </thead>\n",
       "  <tbody>\n",
       "    <tr>\n",
       "      <th>0</th>\n",
       "      <td>56276</td>\n",
       "      <td>888.242</td>\n",
       "      <td>326.1485</td>\n",
       "      <td>220.2388</td>\n",
       "      <td>56831</td>\n",
       "      <td>267.6805</td>\n",
       "      <td>0.7376</td>\n",
       "      <td>0.9902</td>\n",
       "      <td>0.7453</td>\n",
       "      <td>0.8963</td>\n",
       "      <td>1.4809</td>\n",
       "      <td>0.8207</td>\n",
       "      <td>Çerçevelik</td>\n",
       "    </tr>\n",
       "    <tr>\n",
       "      <th>1</th>\n",
       "      <td>76631</td>\n",
       "      <td>1068.146</td>\n",
       "      <td>417.1932</td>\n",
       "      <td>234.2289</td>\n",
       "      <td>77280</td>\n",
       "      <td>312.3614</td>\n",
       "      <td>0.8275</td>\n",
       "      <td>0.9916</td>\n",
       "      <td>0.7151</td>\n",
       "      <td>0.8440</td>\n",
       "      <td>1.7811</td>\n",
       "      <td>0.7487</td>\n",
       "      <td>Çerçevelik</td>\n",
       "    </tr>\n",
       "    <tr>\n",
       "      <th>2</th>\n",
       "      <td>71623</td>\n",
       "      <td>1082.987</td>\n",
       "      <td>435.8328</td>\n",
       "      <td>211.0457</td>\n",
       "      <td>72663</td>\n",
       "      <td>301.9822</td>\n",
       "      <td>0.8749</td>\n",
       "      <td>0.9857</td>\n",
       "      <td>0.7400</td>\n",
       "      <td>0.7674</td>\n",
       "      <td>2.0651</td>\n",
       "      <td>0.6929</td>\n",
       "      <td>Çerçevelik</td>\n",
       "    </tr>\n",
       "    <tr>\n",
       "      <th>3</th>\n",
       "      <td>66458</td>\n",
       "      <td>992.051</td>\n",
       "      <td>381.5638</td>\n",
       "      <td>222.5322</td>\n",
       "      <td>67118</td>\n",
       "      <td>290.8899</td>\n",
       "      <td>0.8123</td>\n",
       "      <td>0.9902</td>\n",
       "      <td>0.7396</td>\n",
       "      <td>0.8486</td>\n",
       "      <td>1.7146</td>\n",
       "      <td>0.7624</td>\n",
       "      <td>Çerçevelik</td>\n",
       "    </tr>\n",
       "    <tr>\n",
       "      <th>4</th>\n",
       "      <td>66107</td>\n",
       "      <td>998.146</td>\n",
       "      <td>383.8883</td>\n",
       "      <td>220.4545</td>\n",
       "      <td>67117</td>\n",
       "      <td>290.1207</td>\n",
       "      <td>0.8187</td>\n",
       "      <td>0.9850</td>\n",
       "      <td>0.6752</td>\n",
       "      <td>0.8338</td>\n",
       "      <td>1.7413</td>\n",
       "      <td>0.7557</td>\n",
       "      <td>Çerçevelik</td>\n",
       "    </tr>\n",
       "  </tbody>\n",
       "</table>\n",
       "</div>"
      ],
      "text/plain": [
       "    Area  Perimeter  Major_Axis_Length  Minor_Axis_Length  Convex_Area  \\\n",
       "0  56276    888.242           326.1485           220.2388        56831   \n",
       "1  76631   1068.146           417.1932           234.2289        77280   \n",
       "2  71623   1082.987           435.8328           211.0457        72663   \n",
       "3  66458    992.051           381.5638           222.5322        67118   \n",
       "4  66107    998.146           383.8883           220.4545        67117   \n",
       "\n",
       "   Equiv_Diameter  Eccentricity  Solidity  Extent  Roundness  Aspect_Ration  \\\n",
       "0        267.6805        0.7376    0.9902  0.7453     0.8963         1.4809   \n",
       "1        312.3614        0.8275    0.9916  0.7151     0.8440         1.7811   \n",
       "2        301.9822        0.8749    0.9857  0.7400     0.7674         2.0651   \n",
       "3        290.8899        0.8123    0.9902  0.7396     0.8486         1.7146   \n",
       "4        290.1207        0.8187    0.9850  0.6752     0.8338         1.7413   \n",
       "\n",
       "   Compactness       Class  \n",
       "0       0.8207  Çerçevelik  \n",
       "1       0.7487  Çerçevelik  \n",
       "2       0.6929  Çerçevelik  \n",
       "3       0.7624  Çerçevelik  \n",
       "4       0.7557  Çerçevelik  "
      ]
     },
     "execution_count": 5,
     "metadata": {},
     "output_type": "execute_result"
    }
   ],
   "source": [
    "data = pd.read_excel('H:\\DATA\\MY\\practice\\Practice-25\\Pumpkin_Seeds_Dataset.xlsx')\n",
    "data.head()"
   ]
  },
  {
   "cell_type": "code",
   "execution_count": 6,
   "metadata": {},
   "outputs": [
    {
     "name": "stdout",
     "output_type": "stream",
     "text": [
      "(2500, 13)\n",
      "<class 'pandas.core.frame.DataFrame'>\n",
      "RangeIndex: 2500 entries, 0 to 2499\n",
      "Data columns (total 13 columns):\n",
      " #   Column             Non-Null Count  Dtype  \n",
      "---  ------             --------------  -----  \n",
      " 0   Area               2500 non-null   int64  \n",
      " 1   Perimeter          2500 non-null   float64\n",
      " 2   Major_Axis_Length  2500 non-null   float64\n",
      " 3   Minor_Axis_Length  2500 non-null   float64\n",
      " 4   Convex_Area        2500 non-null   int64  \n",
      " 5   Equiv_Diameter     2500 non-null   float64\n",
      " 6   Eccentricity       2500 non-null   float64\n",
      " 7   Solidity           2500 non-null   float64\n",
      " 8   Extent             2500 non-null   float64\n",
      " 9   Roundness          2500 non-null   float64\n",
      " 10  Aspect_Ration      2500 non-null   float64\n",
      " 11  Compactness        2500 non-null   float64\n",
      " 12  Class              2500 non-null   object \n",
      "dtypes: float64(10), int64(2), object(1)\n",
      "memory usage: 254.0+ KB\n",
      "None\n"
     ]
    }
   ],
   "source": [
    "print(data.shape)\n",
    "print(data.info())"
   ]
  },
  {
   "cell_type": "code",
   "execution_count": 7,
   "metadata": {},
   "outputs": [
    {
     "name": "stdout",
     "output_type": "stream",
     "text": [
      "Area                 0\n",
      "Perimeter            0\n",
      "Major_Axis_Length    0\n",
      "Minor_Axis_Length    0\n",
      "Convex_Area          0\n",
      "Equiv_Diameter       0\n",
      "Eccentricity         0\n",
      "Solidity             0\n",
      "Extent               0\n",
      "Roundness            0\n",
      "Aspect_Ration        0\n",
      "Compactness          0\n",
      "Class                0\n",
      "dtype: int64\n",
      "Counter({'Çerçevelik': 1300, 'Ürgüp Sivrisi': 1200})\n"
     ]
    }
   ],
   "source": [
    "data = data.round(2)\n",
    "print(data.isnull().sum())\n",
    "print(Counter(data['Class']))"
   ]
  },
  {
   "cell_type": "code",
   "execution_count": 8,
   "metadata": {},
   "outputs": [
    {
     "name": "stdout",
     "output_type": "stream",
     "text": [
      "the accuracy score of the model is :  0.85\n",
      "the classification report is :                 precision    recall  f1-score   support\n",
      "\n",
      "   Çerçevelik       0.84      0.87      0.85       251\n",
      "Ürgüp Sivrisi       0.86      0.83      0.85       249\n",
      "\n",
      "     accuracy                           0.85       500\n",
      "    macro avg       0.85      0.85      0.85       500\n",
      " weighted avg       0.85      0.85      0.85       500\n",
      "\n"
     ]
    }
   ],
   "source": [
    "# the data overall seems to be in a good quality , and it is ready to go\n",
    "# the type of model we are performing is random forest and KNN \n",
    "# the target variable does not suffer from the imbalanced data issue\n",
    "\n",
    "model = RandomForestClassifier(random_state=42)\n",
    "\n",
    "X = data.drop('Class',axis = 1)\n",
    "Y = data['Class']\n",
    "\n",
    "x_train, x_test, y_train, y_test = train_test_split(X, Y, test_size= 0.2, random_state= 42)\n",
    "\n",
    "model.fit(x_train, y_train)\n",
    "y_pred = model.predict(x_test)\n",
    "\n",
    "accuracy = accuracy_score(y_test, y_pred)\n",
    "report = classification_report(y_test, y_pred)\n",
    "\n",
    "print('the accuracy score of the model is : ', accuracy)\n",
    "print('the classification report is : ',report)"
   ]
  },
  {
   "cell_type": "code",
   "execution_count": 9,
   "metadata": {},
   "outputs": [
    {
     "name": "stdout",
     "output_type": "stream",
     "text": [
      "the cross validation :  [0.9   0.892 0.882 0.856 0.872]\n",
      "the mean cross validation score : 0.8804000000000001\n"
     ]
    }
   ],
   "source": [
    "# the model performance seems to be fine , let's confirm it white the cross validation\n",
    "\n",
    "cr_value = cross_val_score(model, X, Y, cv= 5 , scoring='accuracy')\n",
    "\n",
    "print('the cross validation : ', cr_value)\n",
    "print('the mean cross validation score :',cr_value.mean())"
   ]
  },
  {
   "cell_type": "code",
   "execution_count": 10,
   "metadata": {},
   "outputs": [
    {
     "name": "stdout",
     "output_type": "stream",
     "text": [
      "Fitting 5 folds for each of 324 candidates, totalling 1620 fits\n"
     ]
    },
    {
     "name": "stderr",
     "output_type": "stream",
     "text": [
      "c:\\Users\\mouncef\\anaconda3\\Lib\\site-packages\\sklearn\\model_selection\\_validation.py:540: FitFailedWarning: \n",
      "540 fits failed out of a total of 1620.\n",
      "The score on these train-test partitions for these parameters will be set to nan.\n",
      "If these failures are not expected, you can try to debug them by setting error_score='raise'.\n",
      "\n",
      "Below are more details about the failures:\n",
      "--------------------------------------------------------------------------------\n",
      "401 fits failed with the following error:\n",
      "Traceback (most recent call last):\n",
      "  File \"c:\\Users\\mouncef\\anaconda3\\Lib\\site-packages\\sklearn\\model_selection\\_validation.py\", line 888, in _fit_and_score\n",
      "    estimator.fit(X_train, y_train, **fit_params)\n",
      "  File \"c:\\Users\\mouncef\\anaconda3\\Lib\\site-packages\\sklearn\\base.py\", line 1466, in wrapper\n",
      "    estimator._validate_params()\n",
      "  File \"c:\\Users\\mouncef\\anaconda3\\Lib\\site-packages\\sklearn\\base.py\", line 666, in _validate_params\n",
      "    validate_parameter_constraints(\n",
      "  File \"c:\\Users\\mouncef\\anaconda3\\Lib\\site-packages\\sklearn\\utils\\_param_validation.py\", line 95, in validate_parameter_constraints\n",
      "    raise InvalidParameterError(\n",
      "sklearn.utils._param_validation.InvalidParameterError: The 'max_features' parameter of RandomForestClassifier must be an int in the range [1, inf), a float in the range (0.0, 1.0], a str among {'log2', 'sqrt'} or None. Got 'auto' instead.\n",
      "\n",
      "--------------------------------------------------------------------------------\n",
      "139 fits failed with the following error:\n",
      "Traceback (most recent call last):\n",
      "  File \"c:\\Users\\mouncef\\anaconda3\\Lib\\site-packages\\sklearn\\model_selection\\_validation.py\", line 888, in _fit_and_score\n",
      "    estimator.fit(X_train, y_train, **fit_params)\n",
      "  File \"c:\\Users\\mouncef\\anaconda3\\Lib\\site-packages\\sklearn\\base.py\", line 1466, in wrapper\n",
      "    estimator._validate_params()\n",
      "  File \"c:\\Users\\mouncef\\anaconda3\\Lib\\site-packages\\sklearn\\base.py\", line 666, in _validate_params\n",
      "    validate_parameter_constraints(\n",
      "  File \"c:\\Users\\mouncef\\anaconda3\\Lib\\site-packages\\sklearn\\utils\\_param_validation.py\", line 95, in validate_parameter_constraints\n",
      "    raise InvalidParameterError(\n",
      "sklearn.utils._param_validation.InvalidParameterError: The 'max_features' parameter of RandomForestClassifier must be an int in the range [1, inf), a float in the range (0.0, 1.0], a str among {'sqrt', 'log2'} or None. Got 'auto' instead.\n",
      "\n",
      "  warnings.warn(some_fits_failed_message, FitFailedWarning)\n",
      "c:\\Users\\mouncef\\anaconda3\\Lib\\site-packages\\sklearn\\model_selection\\_search.py:1102: UserWarning: One or more of the test scores are non-finite: [   nan    nan    nan    nan    nan    nan    nan    nan    nan    nan\n",
      "    nan    nan    nan    nan    nan    nan    nan    nan    nan    nan\n",
      "    nan    nan    nan    nan    nan    nan    nan 0.8825 0.882  0.8825\n",
      " 0.8775 0.8825 0.882  0.8805 0.88   0.8815 0.8845 0.8835 0.8845 0.8835\n",
      " 0.884  0.8835 0.881  0.8795 0.881  0.8825 0.883  0.8825 0.8825 0.883\n",
      " 0.8825 0.8805 0.881  0.8825 0.8825 0.882  0.8825 0.8775 0.8825 0.882\n",
      " 0.8805 0.88   0.8815 0.8845 0.8835 0.8845 0.8835 0.884  0.8835 0.881\n",
      " 0.8795 0.881  0.8825 0.883  0.8825 0.8825 0.883  0.8825 0.8805 0.881\n",
      " 0.8825    nan    nan    nan    nan    nan    nan    nan    nan    nan\n",
      "    nan    nan    nan    nan    nan    nan    nan    nan    nan    nan\n",
      "    nan    nan    nan    nan    nan    nan    nan    nan 0.8825 0.883\n",
      " 0.883  0.88   0.8835 0.8845 0.8815 0.883  0.8825 0.8825 0.884  0.885\n",
      " 0.8835 0.884  0.8845 0.883  0.8825 0.8825 0.8845 0.8825 0.8845 0.8845\n",
      " 0.8825 0.8845 0.882  0.8825 0.882  0.8825 0.883  0.883  0.88   0.8835\n",
      " 0.8845 0.8815 0.883  0.8825 0.8825 0.884  0.885  0.8835 0.884  0.8845\n",
      " 0.883  0.8825 0.8825 0.8845 0.8825 0.8845 0.8845 0.8825 0.8845 0.882\n",
      " 0.8825 0.882     nan    nan    nan    nan    nan    nan    nan    nan\n",
      "    nan    nan    nan    nan    nan    nan    nan    nan    nan    nan\n",
      "    nan    nan    nan    nan    nan    nan    nan    nan    nan 0.8815\n",
      " 0.8815 0.882  0.8785 0.8815 0.881  0.8805 0.88   0.881  0.8835 0.8835\n",
      " 0.8845 0.884  0.8845 0.883  0.8815 0.88   0.881  0.8825 0.883  0.8825\n",
      " 0.8825 0.883  0.8825 0.8805 0.881  0.8825 0.8815 0.8815 0.882  0.8785\n",
      " 0.8815 0.881  0.8805 0.88   0.881  0.8835 0.8835 0.8845 0.884  0.8845\n",
      " 0.883  0.8815 0.88   0.881  0.8825 0.883  0.8825 0.8825 0.883  0.8825\n",
      " 0.8805 0.881  0.8825    nan    nan    nan    nan    nan    nan    nan\n",
      "    nan    nan    nan    nan    nan    nan    nan    nan    nan    nan\n",
      "    nan    nan    nan    nan    nan    nan    nan    nan    nan    nan\n",
      " 0.8825 0.882  0.8825 0.8775 0.8825 0.882  0.8805 0.88   0.8815 0.8845\n",
      " 0.8835 0.8845 0.8835 0.884  0.8835 0.881  0.8795 0.881  0.8825 0.883\n",
      " 0.8825 0.8825 0.883  0.8825 0.8805 0.881  0.8825 0.8825 0.882  0.8825\n",
      " 0.8775 0.8825 0.882  0.8805 0.88   0.8815 0.8845 0.8835 0.8845 0.8835\n",
      " 0.884  0.8835 0.881  0.8795 0.881  0.8825 0.883  0.8825 0.8825 0.883\n",
      " 0.8825 0.8805 0.881  0.8825]\n",
      "  warnings.warn(\n"
     ]
    },
    {
     "name": "stdout",
     "output_type": "stream",
     "text": [
      "Best parameters found: {'max_depth': 10, 'max_features': 'sqrt', 'min_samples_leaf': 2, 'min_samples_split': 2, 'n_estimators': 300}\n",
      "Accuracy: 0.85\n",
      "Classification Report:\n",
      "               precision    recall  f1-score   support\n",
      "\n",
      "   Çerçevelik       0.84      0.86      0.85       251\n",
      "Ürgüp Sivrisi       0.86      0.84      0.85       249\n",
      "\n",
      "     accuracy                           0.85       500\n",
      "    macro avg       0.85      0.85      0.85       500\n",
      " weighted avg       0.85      0.85      0.85       500\n",
      "\n"
     ]
    }
   ],
   "source": [
    "from sklearn.model_selection import GridSearchCV\n",
    "\n",
    "param_grid = {\n",
    "  'n_estimators': [100, 200, 300],\n",
    "  'max_depth': [None, 10, 20, 30],\n",
    "  'min_samples_split': [2, 5, 10],\n",
    "  'min_samples_leaf': [1, 2, 4],\n",
    "  'max_features': ['auto', 'sqrt', 'log2']\n",
    "}\n",
    "\n",
    "grid_search = GridSearchCV(estimator= model, param_grid=param_grid, cv = 5, n_jobs=-1, verbose=2)\n",
    "\n",
    "grid_search.fit(x_train, y_train)\n",
    "\n",
    "best_params = grid_search.best_params_\n",
    "print(f\"Best parameters found: {best_params}\")\n",
    "\n",
    "best_rf = grid_search.best_estimator_\n",
    "y_pred = best_rf.predict(x_test)\n",
    "\n",
    "print(f\"Accuracy: {accuracy_score(y_test, y_pred)}\")\n",
    "print(f\"Classification Report:\\n{classification_report(y_test, y_pred)}\")"
   ]
  },
  {
   "cell_type": "code",
   "execution_count": 11,
   "metadata": {},
   "outputs": [
    {
     "name": "stdout",
     "output_type": "stream",
     "text": [
      "the cross validation :  [0.614 0.608 0.606 0.588 0.608]\n",
      "the mean cross validation score : 0.6048\n"
     ]
    }
   ],
   "source": [
    "model = KNeighborsClassifier(n_neighbors = 15)\n",
    "cr_value = cross_val_score(model, X, Y, cv= 5 , scoring='accuracy')\n",
    "\n",
    "print('the cross validation : ', cr_value)\n",
    "print('the mean cross validation score :',cr_value.mean())"
   ]
  },
  {
   "cell_type": "code",
   "execution_count": 12,
   "metadata": {},
   "outputs": [
    {
     "name": "stdout",
     "output_type": "stream",
     "text": [
      "Fitting 5 folds for each of 30 candidates, totalling 150 fits\n",
      "Best parameters found: {'metric': 'manhattan', 'n_neighbors': 5, 'weights': 'distance'}\n",
      "Accuracy: 0.742\n",
      "Classification Report:\n",
      "               precision    recall  f1-score   support\n",
      "\n",
      "   Çerçevelik       0.71      0.82      0.76       251\n",
      "Ürgüp Sivrisi       0.78      0.67      0.72       249\n",
      "\n",
      "     accuracy                           0.74       500\n",
      "    macro avg       0.75      0.74      0.74       500\n",
      " weighted avg       0.75      0.74      0.74       500\n",
      "\n"
     ]
    }
   ],
   "source": [
    "param_grid = {\n",
    "    'n_neighbors': [5, 7, 9, 10, 15],\n",
    "    'weights': ['uniform', 'distance'],\n",
    "    'metric': ['euclidean', 'manhattan', 'minkowski']\n",
    "}\n",
    "\n",
    "# Initialize GridSearchCV\n",
    "grid_search = GridSearchCV(estimator=model, param_grid=param_grid, cv=5, n_jobs=-1, verbose=2)\n",
    "\n",
    "# Fit the model\n",
    "grid_search.fit(x_train, y_train)\n",
    "\n",
    "# Get the best parameters\n",
    "best_params = grid_search.best_params_\n",
    "print(f\"Best parameters found: {best_params}\")\n",
    "\n",
    "# Use the best model to predict on the test set\n",
    "best_knn = grid_search.best_estimator_\n",
    "y_pred = best_knn.predict(x_test)\n",
    "\n",
    "# Evaluate the model\n",
    "print(f\"Accuracy: {accuracy_score(y_test, y_pred)}\")\n",
    "print(f\"Classification Report:\\n{classification_report(y_test, y_pred)}\")"
   ]
  },
  {
   "cell_type": "code",
   "execution_count": 13,
   "metadata": {},
   "outputs": [
    {
     "name": "stdout",
     "output_type": "stream",
     "text": [
      "the cross validation :  [0.578 0.634 0.566 0.554 0.572]\n",
      "the mean cross validation score : 0.5808\n"
     ]
    }
   ],
   "source": [
    "from sklearn.svm import SVC\n",
    "\n",
    "model = SVC(kernel='rbf')\n",
    "\n",
    "cr_value = cross_val_score(model, X, Y, cv= 5 , scoring='accuracy')\n",
    "\n",
    "print('the cross validation : ', cr_value)\n",
    "print('the mean cross validation score :',cr_value.mean())"
   ]
  },
  {
   "cell_type": "code",
   "execution_count": 14,
   "metadata": {},
   "outputs": [
    {
     "name": "stdout",
     "output_type": "stream",
     "text": [
      "Fitting 5 folds for each of 324 candidates, totalling 1620 fits\n",
      "Best parameters found: {'learning_rate': 0.1, 'max_depth': 3, 'n_estimators': 100, 'reg_alpha': 0.01, 'reg_lambda': 2}\n",
      "Accuracy with Best Model: 0.85\n",
      "Classification Report with Best Model:\n",
      "              precision    recall  f1-score   support\n",
      "\n",
      "           0       0.84      0.87      0.85       251\n",
      "           1       0.86      0.83      0.85       249\n",
      "\n",
      "    accuracy                           0.85       500\n",
      "   macro avg       0.85      0.85      0.85       500\n",
      "weighted avg       0.85      0.85      0.85       500\n",
      "\n"
     ]
    },
    {
     "name": "stderr",
     "output_type": "stream",
     "text": [
      "c:\\Users\\mouncef\\anaconda3\\Lib\\site-packages\\xgboost\\core.py:158: UserWarning: [20:39:14] WARNING: C:\\buildkite-agent\\builds\\buildkite-windows-cpu-autoscaling-group-i-0015a694724fa8361-1\\xgboost\\xgboost-ci-windows\\src\\learner.cc:740: \n",
      "Parameters: { \"use_label_encoder\" } are not used.\n",
      "\n",
      "  warnings.warn(smsg, UserWarning)\n"
     ]
    }
   ],
   "source": [
    "import xgboost as xgb\n",
    "from xgboost import XGBClassifier\n",
    "from sklearn.model_selection import train_test_split, GridSearchCV, StratifiedKFold\n",
    "from sklearn.preprocessing import LabelEncoder\n",
    "from sklearn.metrics import accuracy_score, classification_report\n",
    "\n",
    "encoder = LabelEncoder()\n",
    "Y = encoder.fit_transform(Y)\n",
    "\n",
    "# Define the parameter grid for GridSearchCV\n",
    "param_grid = {\n",
    "    'n_estimators': [100, 200, 150],\n",
    "    'learning_rate': [0.01, 0.1, 0.2],\n",
    "    'max_depth': [3, 4, 5, 6],\n",
    "    'reg_alpha': [0, 0.01, 0.1],\n",
    "    'reg_lambda': [1, 1.5, 2]\n",
    "}\n",
    "\n",
    "# Split the data into training and test sets\n",
    "X_train, X_test, y_train, y_test = train_test_split(X, Y, test_size=0.2, random_state=42)\n",
    "\n",
    "# Initialize the XGBoost model\n",
    "xgb_model = xgb.XGBClassifier(use_label_encoder=False, eval_metric='mlogloss', random_state=42)\n",
    "\n",
    "# Initialize StratifiedKFold with a fixed random state\n",
    "cv = StratifiedKFold(n_splits=5, shuffle=True, random_state=42)\n",
    "\n",
    "# Initialize GridSearchCV with StratifiedKFold\n",
    "grid_search = GridSearchCV(estimator=xgb_model, param_grid=param_grid, \n",
    "                           cv=cv, n_jobs=-1, verbose=2, scoring='accuracy')\n",
    "\n",
    "# Fit the model using GridSearchCV\n",
    "grid_search.fit(X_train, y_train)\n",
    "\n",
    "# Get the best parameters from GridSearchCV\n",
    "best_params = grid_search.best_params_\n",
    "print(f\"Best parameters found: {best_params}\")\n",
    "\n",
    "# Use the best model to predict on the test set\n",
    "best_model = grid_search.best_estimator_\n",
    "y_pred = best_model.predict(X_test)\n",
    "\n",
    "# Evaluate the best model\n",
    "print(f\"Accuracy with Best Model: {accuracy_score(y_test, y_pred)}\")\n",
    "print(f\"Classification Report with Best Model:\\n{classification_report(y_test, y_pred)}\")\n"
   ]
  }
 ],
 "metadata": {
  "kernelspec": {
   "display_name": "base",
   "language": "python",
   "name": "python3"
  },
  "language_info": {
   "codemirror_mode": {
    "name": "ipython",
    "version": 3
   },
   "file_extension": ".py",
   "mimetype": "text/x-python",
   "name": "python",
   "nbconvert_exporter": "python",
   "pygments_lexer": "ipython3",
   "version": "3.11.5"
  }
 },
 "nbformat": 4,
 "nbformat_minor": 2
}
